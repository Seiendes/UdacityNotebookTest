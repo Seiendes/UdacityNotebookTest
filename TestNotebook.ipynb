{
 "cells": [
  {
   "cell_type": "markdown",
   "id": "151d5179",
   "metadata": {},
   "source": [
    "# Heading1"
   ]
  },
  {
   "cell_type": "markdown",
   "id": "8fb9349f",
   "metadata": {},
   "source": [
    "## Heading2"
   ]
  },
  {
   "cell_type": "markdown",
   "id": "0b8372ee",
   "metadata": {},
   "source": [
    "### Heading3"
   ]
  },
  {
   "cell_type": "markdown",
   "id": "0770b6c5",
   "metadata": {},
   "source": [
    "[This is a link to google.com](https://www.google.com)"
   ]
  },
  {
   "cell_type": "markdown",
   "id": "bb0a70f6",
   "metadata": {},
   "source": [
    "**Fett**"
   ]
  },
  {
   "cell_type": "markdown",
   "id": "5bee07e7",
   "metadata": {},
   "source": [
    "*Kursiv*"
   ]
  },
  {
   "cell_type": "markdown",
   "id": "3b36d22e",
   "metadata": {},
   "source": [
    "Beispielcode: tippe folgendes ein\n",
    "`print(\"hello, World\")`"
   ]
  },
  {
   "cell_type": "markdown",
   "id": "45820e68",
   "metadata": {},
   "source": [
    "Beispielcode in neuer Zeile: tippe folgendes ein\n",
    "```\n",
    "print(\"hello, World\")\n",
    "```"
   ]
  },
  {
   "cell_type": "markdown",
   "id": "4e35f188",
   "metadata": {},
   "source": [
    "Latex Math Mode: $a^2 = b^2+c^2$"
   ]
  },
  {
   "cell_type": "markdown",
   "id": "760f9c83",
   "metadata": {},
   "source": [
    "Latex Math Mode znetriert: \n",
    "$$\n",
    "a^2 = b^2+c^2\n",
    "$$"
   ]
  },
  {
   "cell_type": "code",
   "execution_count": 1,
   "id": "99ef09ae",
   "metadata": {},
   "outputs": [
    {
     "name": "stdout",
     "output_type": "stream",
     "text": [
      "3\n",
      "3\n"
     ]
    }
   ],
   "source": [
    "a=[2,3,4]\n",
    "print(a[1])\n",
    "\n",
    "a=[2,3,4]\n",
    "print(a[1])"
   ]
  },
  {
   "cell_type": "code",
   "execution_count": null,
   "id": "0212ee78",
   "metadata": {},
   "outputs": [],
   "source": []
  }
 ],
 "metadata": {
  "kernelspec": {
   "display_name": "Python 3 (ipykernel)",
   "language": "python",
   "name": "python3"
  },
  "language_info": {
   "codemirror_mode": {
    "name": "ipython",
    "version": 3
   },
   "file_extension": ".py",
   "mimetype": "text/x-python",
   "name": "python",
   "nbconvert_exporter": "python",
   "pygments_lexer": "ipython3",
   "version": "3.8.11"
  }
 },
 "nbformat": 4,
 "nbformat_minor": 5
}
