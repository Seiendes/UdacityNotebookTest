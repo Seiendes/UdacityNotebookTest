{
 "cells": [
  {
   "cell_type": "markdown",
   "id": "9bf5d490",
   "metadata": {},
   "source": [
    "# Heading"
   ]
  },
  {
   "cell_type": "code",
   "execution_count": 1,
   "id": "719abbfc",
   "metadata": {},
   "outputs": [
    {
     "name": "stdout",
     "output_type": "stream",
     "text": [
      "hello, World\n"
     ]
    }
   ],
   "source": [
    "print(\"hello, World\")"
   ]
  },
  {
   "cell_type": "code",
   "execution_count": 3,
   "id": "ef0c2183",
   "metadata": {},
   "outputs": [
    {
     "name": "stdout",
     "output_type": "stream",
     "text": [
      "3\n",
      "3\n"
     ]
    }
   ],
   "source": [
    "a=[2,3,4]\n",
    "print(a[1])\n",
    "\n",
    "a=[2,3,4]\n",
    "print(a[1])"
   ]
  },
  {
   "cell_type": "markdown",
   "id": "7e2b964b",
   "metadata": {},
   "source": [
    "Das ist eine Markdown-Cell"
   ]
  },
  {
   "cell_type": "code",
   "execution_count": null,
   "id": "f8b71608",
   "metadata": {},
   "outputs": [],
   "source": []
  }
 ],
 "metadata": {
  "kernelspec": {
   "display_name": "Python 3 (ipykernel)",
   "language": "python",
   "name": "python3"
  },
  "language_info": {
   "codemirror_mode": {
    "name": "ipython",
    "version": 3
   },
   "file_extension": ".py",
   "mimetype": "text/x-python",
   "name": "python",
   "nbconvert_exporter": "python",
   "pygments_lexer": "ipython3",
   "version": "3.8.11"
  }
 },
 "nbformat": 4,
 "nbformat_minor": 5
}
